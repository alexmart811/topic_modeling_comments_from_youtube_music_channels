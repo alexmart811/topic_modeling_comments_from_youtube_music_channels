{
 "cells": [
  {
   "cell_type": "code",
   "execution_count": 1,
   "id": "1f266156-e902-4bd3-8159-6b47af4a98c9",
   "metadata": {},
   "outputs": [],
   "source": [
    "from googleapiclient.discovery import build\n",
    "import yaml\n",
    "\n",
    "import warnings\n",
    "warnings.filterwarnings(\"ignore\")"
   ]
  },
  {
   "cell_type": "markdown",
   "id": "61f0b258",
   "metadata": {},
   "source": [
    "# Парсинг информации"
   ]
  },
  {
   "cell_type": "markdown",
   "id": "61bf7971",
   "metadata": {},
   "source": [
    "В данной работе ставится задача тематического моделирования комментариев с YouTube, собранных с музыкальных обучающих и развлекательных каналов о барабанах. В этом ноутбуке написан парсер комментариев, который собирает и сохраняет данные в текстовый документ для дальнейшей обработки.\n",
    "\n",
    "В папке data/source находится файл channels_id, в котором записаны 10 id номеров с каналов, которые буду парсить."
   ]
  },
  {
   "cell_type": "code",
   "execution_count": 2,
   "id": "afc376e9",
   "metadata": {},
   "outputs": [],
   "source": [
    "def comment_report(channel_id: str, apikey: str, nrequests: int) -> list[str]:\n",
    "    \"\"\"\n",
    "    Возвращает список с комментариями с определенного канала\n",
    "    :param channel_id: айди канала, с которого нужно взять комментарии\n",
    "    :param apikey: ключ для получения доступа к API\n",
    "    :param nrequests: количество запросов при выполнении функции (квота в 10000)\n",
    "    :return: список с комментариями\n",
    "    \"\"\"\n",
    "    service = build('youtube', 'v3', developerKey=apikey)\n",
    "\n",
    "    args = {\n",
    "        'allThreadsRelatedToChannelId': channel_id,\n",
    "        'part': 'id,snippet,replies',\n",
    "        'maxResults': 100\n",
    "    }\n",
    "\n",
    "    comments = []\n",
    "    for page in range(nrequests):\n",
    "        r = service.commentThreads().list(**args).execute()\n",
    "        for top_level in r['items']:\n",
    "            comment_id = top_level['snippet']['topLevelComment']['id']\n",
    "            snippet = top_level['snippet']['topLevelComment']['snippet']\n",
    "            comments.append(snippet['textOriginal'])\n",
    "\n",
    "            if 'replies' in top_level:\n",
    "                for reply in top_level['replies']['comments']:\n",
    "                    comments.append(snippet['textOriginal'])\n",
    "\n",
    "        args['pageToken'] = r.get('nextPageToken')\n",
    "        if not args['pageToken']:\n",
    "            break\n",
    "\n",
    "    return comments"
   ]
  },
  {
   "cell_type": "code",
   "execution_count": 3,
   "id": "b33f400f-0bd3-440a-a858-106a3df598a1",
   "metadata": {},
   "outputs": [],
   "source": [
    "def summary_comments(channels_id: list[str], apikey: str, \n",
    "                     nrequests: int) -> list[str]:\n",
    "    \"\"\"\n",
    "    Конкатенирует и возвращает список комментариев из разных запросов\n",
    "    :param channels_id: список айди каналов\n",
    "    :param apikey: ключ для получения доступа к API\n",
    "    :param nrequests: количество запросов при выполнении функции (квота в 10000)\n",
    "    :return: список с комментариями \n",
    "    \"\"\"\n",
    "    comments = []\n",
    "    \n",
    "    for idx in channels_id:\n",
    "        comments += comment_report(idx, apikey, nrequests)\n",
    "\n",
    "    return comments"
   ]
  },
  {
   "cell_type": "code",
   "execution_count": 4,
   "id": "a35a1ac1-8a33-4ab0-8b2f-a9ae715ac7e1",
   "metadata": {},
   "outputs": [],
   "source": [
    "def txt_file_to_list(file: str) -> list:\n",
    "    \"\"\"\n",
    "    Преобразует информацию из файла в список, деля ее построчно\n",
    "    :param file: путь до файла\n",
    "    \"\"\"\n",
    "    with open(file, 'r', encoding='utf-8') as f:\n",
    "        lst = f.readlines()\n",
    "        lst = [i.strip() for i in lst]\n",
    "\n",
    "    return lst"
   ]
  },
  {
   "cell_type": "code",
   "execution_count": 5,
   "id": "5ebdbdd0",
   "metadata": {},
   "outputs": [],
   "source": [
    "config_path = '../config/params.yml'\n",
    "config = yaml.load(open(config_path), Loader=yaml.FullLoader)"
   ]
  },
  {
   "cell_type": "code",
   "execution_count": 6,
   "id": "2f0fd846-882a-4554-a1de-2f1523e622e1",
   "metadata": {},
   "outputs": [],
   "source": [
    "channels_id = config['parse']['channels_id']"
   ]
  },
  {
   "cell_type": "code",
   "execution_count": 7,
   "id": "db484212-76da-4ac7-b45c-66fa6c327702",
   "metadata": {},
   "outputs": [],
   "source": [
    "ids = txt_file_to_list(channels_id)"
   ]
  },
  {
   "cell_type": "code",
   "execution_count": 8,
   "id": "bd877506-5b99-4dd8-80cb-dfc99307f57c",
   "metadata": {},
   "outputs": [],
   "source": [
    "apiKey = config['parse']['apiKey']\n",
    "nrequests = config['parse']['nrequests']"
   ]
  },
  {
   "cell_type": "code",
   "execution_count": 10,
   "id": "81580322",
   "metadata": {},
   "outputs": [],
   "source": [
    "comments = summary_comments(ids, apiKey, nrequests)"
   ]
  },
  {
   "cell_type": "code",
   "execution_count": null,
   "id": "8d238778",
   "metadata": {},
   "outputs": [],
   "source": [
    "def record_file(file: str, lst: list[str]) -> None:\n",
    "    \"\"\"\n",
    "    Записывает в файл информацию из списка\n",
    "    :param file: путь до файла\n",
    "    :param lst: список строк\n",
    "    \"\"\"\n",
    "    with open(file, 'w', encoding='utf-8') as f:\n",
    "        for comment in lst:\n",
    "            comment = comment.replace('\\n', ' ')\n",
    "            f.write(comment + '\\n')"
   ]
  },
  {
   "cell_type": "code",
   "execution_count": null,
   "id": "5c43dfd5-1873-46ce-a4b0-5b338ad8acc7",
   "metadata": {},
   "outputs": [],
   "source": [
    "comments_file = config['parse']['comments']"
   ]
  },
  {
   "cell_type": "code",
   "execution_count": null,
   "id": "dbe26483",
   "metadata": {},
   "outputs": [],
   "source": [
    "record_file(comments_file, comments)"
   ]
  }
 ],
 "metadata": {
  "kernelspec": {
   "display_name": "Python 3",
   "language": "python",
   "name": "python3"
  },
  "language_info": {
   "codemirror_mode": {
    "name": "ipython",
    "version": 3
   },
   "file_extension": ".py",
   "mimetype": "text/x-python",
   "name": "python",
   "nbconvert_exporter": "python",
   "pygments_lexer": "ipython3",
   "version": "3.8.8"
  },
  "toc": {
   "base_numbering": 1,
   "nav_menu": {},
   "number_sections": true,
   "sideBar": true,
   "skip_h1_title": false,
   "title_cell": "Table of Contents",
   "title_sidebar": "Contents",
   "toc_cell": false,
   "toc_position": {},
   "toc_section_display": true,
   "toc_window_display": false
  }
 },
 "nbformat": 4,
 "nbformat_minor": 5
}
