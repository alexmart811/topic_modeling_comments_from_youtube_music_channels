{
 "cells": [
  {
   "cell_type": "code",
   "execution_count": 1,
   "metadata": {},
   "outputs": [],
   "source": [
    "import pandas as pd\n",
    "import numpy as np\n",
    "\n",
    "import matplotlib.pyplot as plt\n",
    "import seaborn as sns\n",
    "\n",
    "import yaml\n",
    "\n",
    "from scipy import stats\n",
    "\n",
    "import sklearn\n",
    "from sklearn.model_selection import train_test_split, StratifiedKFold\n",
    "from sklearn.decomposition import PCA\n",
    "from sklearn.metrics import f1_score, roc_auc_score, precision_score, \\\n",
    "recall_score, log_loss\n",
    "from sklearn.preprocessing import label_binarize\n",
    "\n",
    "import lightgbm\n",
    "from lightgbm import LGBMClassifier\n",
    "\n",
    "import catboost\n",
    "from catboost import CatBoostClassifier\n",
    "\n",
    "from typing import Union, Any\n",
    "\n",
    "import pickle\n",
    "import json\n",
    "\n",
    "import import_ipynb\n",
    "from nlp_modeling_3 import to_pickle\n",
    "\n",
    "import warnings\n",
    "warnings.filterwarnings(\"ignore\")"
   ]
  },
  {
   "cell_type": "markdown",
   "metadata": {},
   "source": [
    "# 1. Выгрузка и преобразование данных"
   ]
  },
  {
   "cell_type": "markdown",
   "metadata": {},
   "source": [
    "Выгружу данные, понижу размерность фичей и разобью на трейновую, тестовую и валидационные выборки"
   ]
  },
  {
   "cell_type": "code",
   "execution_count": 2,
   "metadata": {},
   "outputs": [],
   "source": [
    "config_path = '../config/params.yml'\n",
    "config = yaml.load(open(config_path), Loader=yaml.FullLoader)"
   ]
  },
  {
   "cell_type": "code",
   "execution_count": 3,
   "metadata": {},
   "outputs": [],
   "source": [
    "train_df_path = config['nlp_modeling']['train_df']"
   ]
  },
  {
   "cell_type": "code",
   "execution_count": 4,
   "metadata": {},
   "outputs": [],
   "source": [
    "def from_csv(path: str) -> pd.DataFrame:\n",
    "    \"\"\"\n",
    "    Загрузка таблицы из пути\n",
    "    :params path: путь до файла\n",
    "    :return: пандас таблица\n",
    "    \"\"\"\n",
    "    return pd.read_csv(path)"
   ]
  },
  {
   "cell_type": "code",
   "execution_count": 5,
   "metadata": {},
   "outputs": [],
   "source": [
    "train_df = from_csv(train_df_path)"
   ]
  },
  {
   "cell_type": "code",
   "execution_count": 6,
   "metadata": {},
   "outputs": [],
   "source": [
    "def X_y_separator(df: pd.DataFrame, target: str) -> (pd.DataFrame, np.ndarray):\n",
    "    \"\"\"\n",
    "    Разделение данных на признаки и таргет\n",
    "    :params df: таблица, которую надо разделить\n",
    "    :params target: имя колонки, которая является целевой\n",
    "    :return: Таблица объектов-признаков\n",
    "    :return: вектор ответов\n",
    "    \"\"\"\n",
    "    return df.drop([target], axis=1), df[target]"
   ]
  },
  {
   "cell_type": "code",
   "execution_count": 7,
   "metadata": {},
   "outputs": [],
   "source": [
    "X, y = X_y_separator(train_df, 'target')"
   ]
  },
  {
   "cell_type": "code",
   "execution_count": 8,
   "metadata": {},
   "outputs": [],
   "source": [
    "def replace_negative_class(data: np.ndarray) -> np.ndarray:\n",
    "    \"\"\"\n",
    "    Замена класса -1 на положительное число (максимальная метка класса + 1)\n",
    "    :data: массив, в котором нужно заменить -1\n",
    "    :return: исправленный массив\n",
    "    \"\"\"\n",
    "    data[data == -1] = data.max() + 1\n",
    "    return data"
   ]
  },
  {
   "cell_type": "code",
   "execution_count": 9,
   "metadata": {},
   "outputs": [],
   "source": [
    "y = replace_negative_class(y)"
   ]
  },
  {
   "cell_type": "code",
   "execution_count": 10,
   "metadata": {},
   "outputs": [],
   "source": [
    "rs = config['train_ml']['random_state']\n",
    "n_components = config['train_ml']['n_compoments_for_pca']"
   ]
  },
  {
   "cell_type": "code",
   "execution_count": 11,
   "metadata": {},
   "outputs": [],
   "source": [
    "def pca_fit_transform(data: Union[pd.DataFrame, np.ndarray],\n",
    "                      n_components: Union[int, float],\n",
    "                      random_state: int\n",
    "    ) -> (sklearn.decomposition._pca.PCA, np.ndarray):\n",
    "    \"\"\"\n",
    "    Понижение размерности данных\n",
    "    :params data: массив данных, размерность которого нужно понизить\n",
    "    :params n_components: до какого количества признаков понизить размер,\n",
    "                          либо доля обоснованной дисперсии\n",
    "    :params random_state: рандом стейт\n",
    "    :return: модель pca (нужна будет в ноутбуке evaluate)\n",
    "    :return: итоговый массив после понижения размерности\n",
    "    \"\"\"\n",
    "    pca = PCA(n_components=n_components, random_state=random_state)\n",
    "    return pca, pca.fit_transform(data)\n"
   ]
  },
  {
   "cell_type": "code",
   "execution_count": 12,
   "metadata": {},
   "outputs": [],
   "source": [
    "pca_model, X_emb = pca_fit_transform(X, n_components, rs)"
   ]
  },
  {
   "cell_type": "code",
   "execution_count": 13,
   "metadata": {},
   "outputs": [],
   "source": [
    "def train_test_val_split(X: np.ndarray, \n",
    "                         y: np.ndarray, \n",
    "                         test_size: float, \n",
    "                         val_size: float, \n",
    "                         random_state: int\n",
    "    ) -> (np.ndarray, np.ndarray, np.ndarray, \n",
    "          np.ndarray, np.ndarray, np.ndarray,):\n",
    "    \"\"\"\n",
    "    Деление на трейновую, тестовую и валидационную выборки\n",
    "    :params X: массив объектов-признаков\n",
    "    :params y: вектор ответов\n",
    "    :params test_size: доля тестовой выборки\n",
    "    :params val_size: доля валидационной выборки\n",
    "    :params random_state: рандом стейт\n",
    "    :return: X и y трейновой, тестовой и валидационной выборок\n",
    "    \"\"\"\n",
    "    X_train, X_test, y_train, y_test = train_test_split(X,\n",
    "                                                        y,\n",
    "                                                        test_size=test_size,\n",
    "                                                        shuffle=True,\n",
    "                                                        random_state=random_state,\n",
    "                                                        stratify=y)\n",
    "\n",
    "    X_train_, X_val, y_train_, y_val = train_test_split(X_train,\n",
    "                                                        y_train,\n",
    "                                                        test_size=val_size,\n",
    "                                                        random_state=random_state,\n",
    "                                                        shuffle=True,\n",
    "                                                        stratify=y_train)\n",
    "    \n",
    "    return X_train_, y_train_, X_val, y_val, X_test, y_test"
   ]
  },
  {
   "cell_type": "code",
   "execution_count": 14,
   "metadata": {},
   "outputs": [],
   "source": [
    "test_size = config['train_ml']['test_size']\n",
    "val_size = config['train_ml']['val_size']"
   ]
  },
  {
   "cell_type": "code",
   "execution_count": 15,
   "metadata": {},
   "outputs": [],
   "source": [
    "X_train_, y_train_, X_val, y_val, X_test, y_test = train_test_val_split(X_emb,\n",
    "                                                                        y,\n",
    "                                                                        test_size,\n",
    "                                                                        val_size,\n",
    "                                                                        rs)"
   ]
  },
  {
   "cell_type": "code",
   "execution_count": 16,
   "metadata": {},
   "outputs": [],
   "source": [
    "def label_binarization(data: np.ndarray) -> np.ndarray:\n",
    "    \"\"\"\n",
    "    Бинаризация меток классов из вектора ответов \n",
    "    :params data: вектор ответов\n",
    "    :return: массив бинаризованных меток\n",
    "    \"\"\"\n",
    "    return label_binarize(data, classes=list(set(data)))"
   ]
  },
  {
   "cell_type": "code",
   "execution_count": 17,
   "metadata": {},
   "outputs": [],
   "source": [
    "y_test_bin = label_binarization(y_test)"
   ]
  },
  {
   "cell_type": "code",
   "execution_count": 18,
   "metadata": {},
   "outputs": [],
   "source": [
    "y_train_bin = label_binarization(y_train_)"
   ]
  },
  {
   "cell_type": "code",
   "execution_count": 19,
   "metadata": {},
   "outputs": [],
   "source": [
    "def draw_distribution_of_target(data: pd.Series, name: str, title: str) -> None:\n",
    "    \"\"\"\n",
    "    Отрисовка распределения таргета с выводом процентов над каждым баром\n",
    "    :params data: столбец с таргетом\n",
    "    :params name: наименование колонки с таргетом\n",
    "    :params title: название графика\n",
    "    \"\"\"\n",
    "    df_segm_percent = data.value_counts(\n",
    "        normalize=True).mul(100).rename('percent').reset_index()\n",
    "\n",
    "    ax = plt.figure(figsize=(10, 6))\n",
    "    ax = sns.barplot(data=df_segm_percent, x=name, y='percent', color='green')\n",
    "\n",
    "    for p in ax.patches:\n",
    "        ax.annotate('{:.1f}%'.format(p.get_height()),\n",
    "                    (p.get_x() + p.get_width() / 2., p.get_height()),\n",
    "                    ha='center',\n",
    "                    va='center',\n",
    "                    xytext=(0, 4),\n",
    "                    textcoords='offset points')\n",
    "\n",
    "    ax.set_title(title)\n",
    "    plt.show()"
   ]
  },
  {
   "cell_type": "code",
   "execution_count": 20,
   "metadata": {},
   "outputs": [
    {
     "data": {
      "image/png": "[encoded data removed]",
      "text/plain": [
       "<Figure size 1000x600 with 1 Axes>"
      ]
     },
     "metadata": {},
     "output_type": "display_data"
    }
   ],
   "source": [
    "draw_distribution_of_target(y, 'target', 'Распределения классов в выборке')"
   ]
  },
  {
   "cell_type": "markdown",
   "metadata": {},
   "source": [
    "Видно, что классы распределены очень неравномерно. Ососбенно выделяются мусорные комментарии (класс 30) и 0 класс."
   ]
  },
  {
   "cell_type": "markdown",
   "metadata": {},
   "source": [
    "# 2. Построение бейзлайнов"
   ]
  },
  {
   "cell_type": "markdown",
   "metadata": {},
   "source": [
    "## 2.1 LGBM бейзлайн"
   ]
  },
  {
   "cell_type": "markdown",
   "metadata": {},
   "source": [
    "Построим бейзлайн модель lgbm и выведем получившиеся метрики"
   ]
  },
  {
   "cell_type": "code",
   "execution_count": 21,
   "metadata": {},
   "outputs": [],
   "source": [
    "def lgbm_fit(X_train: np.ndarray, y_train: np.ndarray,\n",
    "             X_val: np.ndarray, y_val: np.ndarray, random_state: int, **params\n",
    "             ) -> lightgbm.sklearn.LGBMClassifier:\n",
    "    \"\"\"\n",
    "    Обучение LGBMClassifier с введенными параметрами \n",
    "    для многоклассовой класификации\n",
    "    :params X_train: обучающая выборка\n",
    "    :params y_train: ответы обучающей выборки\n",
    "    :params X_val: валидационная выборка\n",
    "    :params y_val: ответы валидационной выборки\n",
    "    :params random_state: рандом стейт\n",
    "    :params params: дополнительные параметры модели\n",
    "    :return: обучанная модель\n",
    "    \"\"\"\n",
    "    if params:\n",
    "        lgbm_clf = LGBMClassifier(params,\n",
    "                                  objective='multiclass',\n",
    "                                  class_weight='balanced',\n",
    "                                  eval_metric='auc',\n",
    "                                  random_state=random_state,\n",
    "                                  verbose=-1)\n",
    "    else:\n",
    "        lgbm_clf = LGBMClassifier(objective='multiclass',\n",
    "                                  class_weight='balanced',\n",
    "                                  random_state=random_state,\n",
    "                                  verbose=-1)\n",
    "\n",
    "    eval_set = [(X_val, y_val)]\n",
    "\n",
    "    lgbm_clf.fit(X_train,\n",
    "                 y_train,\n",
    "                 eval_set=eval_set)\n",
    "    return lgbm_clf\n"
   ]
  },
  {
   "cell_type": "code",
   "execution_count": 20,
   "metadata": {},
   "outputs": [],
   "source": [
    "lgbm_clf_base = lgbm_fit(X_train_, y_train_, X_val, y_val, rs)"
   ]
  },
  {
   "cell_type": "code",
   "execution_count": 19,
   "metadata": {},
   "outputs": [],
   "source": [
    "def get_metrics_multiclass(y_test_bin, y_test, y_pred, y_prob, name,\n",
    "                           type_multi):\n",
    "    \"\"\"\n",
    "    y_test_bin - бинаризованные тестовые метки класса\n",
    "    y_test - метки класса без бинаризации\n",
    "    y_prob - предсказанные вероятности классов\n",
    "    name - название модели/подхода\n",
    "    type_multi - тип многоклассовой классификации для ROC-AUC (ovo/ovr)\n",
    "    \"\"\"\n",
    "\n",
    "    df_metrics = pd.DataFrame()\n",
    "\n",
    "    df_metrics['model'] = [name]\n",
    "\n",
    "    df_metrics['ROC_AUC'] = roc_auc_score(y_test_bin,\n",
    "                                          y_prob,\n",
    "                                          multi_class=type_multi)\n",
    "    df_metrics['Precision_micro'] = precision_score(y_test,\n",
    "                                                    y_pred,\n",
    "                                                    average='micro')\n",
    "    df_metrics['Precision_macro'] = precision_score(y_test,\n",
    "                                                    y_pred,\n",
    "                                                    average='macro')\n",
    "    df_metrics['Recall_micro'] = recall_score(y_test, y_pred, average='micro')\n",
    "    df_metrics['Recall_macro'] = recall_score(y_test, y_pred, average='macro')\n",
    "    df_metrics['F1_micro'] = f1_score(y_test, y_pred, average='micro')\n",
    "    df_metrics['F1_macro'] = f1_score(y_test, y_pred, average='macro')\n",
    "    df_metrics['Logloss'] = log_loss(y_test, y_prob)\n",
    "\n",
    "    return df_metrics"
   ]
  },
  {
   "cell_type": "code",
   "execution_count": 20,
   "metadata": {},
   "outputs": [],
   "source": [
    "def check_overfitting(y_pred_proba_train: np.ndarray, \n",
    "                      y_train_bin: np.ndarray, \n",
    "                      y_pred_proba_test: np.ndarray, \n",
    "                      y_test_bin: np.ndarray, \n",
    "                      type_multi: str\n",
    "    ) -> None:\n",
    "    \"\"\"\n",
    "    Проверка на overfitting для многоклассовой классификации\n",
    "    :params y_pred_proba_train: массив предсказаний вероятностей трейновой выборки\n",
    "    :params y_train_bin: бинаризованный массив ответов трейновой выборки\n",
    "    :params y_pred_proba_test: массив предсказаний вероятностей тестовой выборки\n",
    "    :params y_test_bin: бинаризованный массив ответов тестовой выборки\n",
    "    :params type_multi: стратегия мнокоглассовой классификации\n",
    "    \"\"\"\n",
    "    value_train = roc_auc_score(y_train_bin, y_pred_proba_train, \n",
    "                                multi_class=type_multi)\n",
    "    value_test = roc_auc_score(y_test_bin, y_pred_proba_test, \n",
    "                               multi_class=type_multi)\n",
    "\n",
    "    print(f'roc_auc train: %.3f' % value_train)\n",
    "    print(f'roc_auc test: %.3f' % value_test)\n",
    "    print(f'delta = {(abs(value_train - value_test)/value_test*100):.1f} %')"
   ]
  },
  {
   "cell_type": "code",
   "execution_count": 184,
   "metadata": {},
   "outputs": [],
   "source": [
    "y_pred_test_lgbm_base = lgbm_clf_base.predict(X_test)\n",
    "y_pred_proba_test_lgbm_base = lgbm_clf_base.predict_proba(X_test)\n",
    "\n",
    "y_pred_proba_train_lgbm_base = lgbm_clf_base.predict_proba(X_train_)"
   ]
  },
  {
   "cell_type": "code",
   "execution_count": 185,
   "metadata": {},
   "outputs": [
    {
     "data": {
      "text/html": [
       "<div>\n",
       "<style scoped>\n",
       "    .dataframe tbody tr th:only-of-type {\n",
       "        vertical-align: middle;\n",
       "    }\n",
       "\n",
       "    .dataframe tbody tr th {\n",
       "        vertical-align: top;\n",
       "    }\n",
       "\n",
       "    .dataframe thead th {\n",
       "        text-align: right;\n",
       "    }\n",
       "</style>\n",
       "<table border=\"1\" class=\"dataframe\">\n",
       "  <thead>\n",
       "    <tr style=\"text-align: right;\">\n",
       "      <th></th>\n",
       "      <th>model</th>\n",
       "      <th>ROC_AUC</th>\n",
       "      <th>Precision_micro</th>\n",
       "      <th>Precision_macro</th>\n",
       "      <th>Recall_micro</th>\n",
       "      <th>Recall_macro</th>\n",
       "      <th>F1_micro</th>\n",
       "      <th>F1_macro</th>\n",
       "      <th>Logloss</th>\n",
       "    </tr>\n",
       "  </thead>\n",
       "  <tbody>\n",
       "    <tr>\n",
       "      <th>0</th>\n",
       "      <td>lgbm_base</td>\n",
       "      <td>0.992732</td>\n",
       "      <td>0.820972</td>\n",
       "      <td>0.870934</td>\n",
       "      <td>0.820972</td>\n",
       "      <td>0.808104</td>\n",
       "      <td>0.820972</td>\n",
       "      <td>0.836352</td>\n",
       "      <td>0.551806</td>\n",
       "    </tr>\n",
       "  </tbody>\n",
       "</table>\n",
       "</div>"
      ],
      "text/plain": [
       "       model   ROC_AUC  Precision_micro  Precision_macro  Recall_micro  \\\n",
       "0  lgbm_base  0.992732         0.820972         0.870934      0.820972   \n",
       "\n",
       "   Recall_macro  F1_micro  F1_macro   Logloss  \n",
       "0      0.808104  0.820972  0.836352  0.551806  "
      ]
     },
     "execution_count": 185,
     "metadata": {},
     "output_type": "execute_result"
    }
   ],
   "source": [
    "get_metrics_multiclass(y_test_bin, y_test, y_pred_test_lgbm_base,\n",
    "                       y_pred_proba_test_lgbm_base, 'lgbm_base', 'ovo')"
   ]
  },
  {
   "cell_type": "code",
   "execution_count": 186,
   "metadata": {},
   "outputs": [
    {
     "name": "stdout",
     "output_type": "stream",
     "text": [
      "roc_auc train: 1.000\n",
      "roc_auc test: 0.993\n",
      "delta = 0.7 %\n"
     ]
    }
   ],
   "source": [
    "check_overfitting(y_pred_proba_train_lgbm_base, y_train_bin, \n",
    "                  y_pred_proba_test_lgbm_base, y_test_bin, 'ovo')"
   ]
  },
  {
   "cell_type": "markdown",
   "metadata": {},
   "source": [
    "## 2.2 Catboost бейзлайн"
   ]
  },
  {
   "cell_type": "markdown",
   "metadata": {},
   "source": [
    "Построим бейзлайн модель catboost и выведем получившиеся метрики"
   ]
  },
  {
   "cell_type": "code",
   "execution_count": 29,
   "metadata": {},
   "outputs": [],
   "source": [
    "def catboost_fit(X_train: np.ndarray, y_train: np.ndarray,\n",
    "                 X_val: np.ndarray, y_val: np.ndarray, random_state: int, \n",
    "                 **params):\n",
    "    \"\"\"\n",
    "    Обучение CatboostClassifier с введенными параметрами \n",
    "    для многоклассовой класификации\n",
    "    :params X_train: обучающая выборка\n",
    "    :params y_train: ответы обучающей выборки\n",
    "    :params X_val: валидационная выборка\n",
    "    :params y_val: ответы валидационной выборки\n",
    "    :params random_state: рандом стейт\n",
    "    :params params: дополнительные параметры модели\n",
    "    :return: обучанная модель\n",
    "    \"\"\"\n",
    "    if params:\n",
    "        catboostclf = CatBoostClassifier(**params,\n",
    "                                         loss_function='MultiClass',\n",
    "                                         auto_class_weights='Balanced',\n",
    "                                         random_state=random_state,\n",
    "                                         verbose=False)\n",
    "    else:\n",
    "        catboostclf = CatBoostClassifier(loss_function='MultiClass',\n",
    "                                         auto_class_weights='Balanced',\n",
    "                                         random_state=random_state,\n",
    "                                         verbose=False)\n",
    "\n",
    "    eval_set = [(X_val, y_val)]\n",
    "\n",
    "    catboostclf.fit(X_train,\n",
    "                    y_train,\n",
    "                    eval_set=eval_set,\n",
    "                    verbose=False,\n",
    "                    early_stopping_rounds=100)\n",
    "    return catboostclf\n"
   ]
  },
  {
   "cell_type": "code",
   "execution_count": 30,
   "metadata": {},
   "outputs": [],
   "source": [
    "catboost_clf_base = catboost_fit(X_train_, y_train_, X_val, y_val, rs)"
   ]
  },
  {
   "cell_type": "code",
   "execution_count": 160,
   "metadata": {},
   "outputs": [],
   "source": [
    "y_pred_test_catboost_base = catboost_clf_base.predict(X_test)\n",
    "y_pred_proba_test_catboost_base = catboost_clf_base.predict_proba(X_test)\n",
    "\n",
    "y_pred_proba_train_catboost_base = catboost_clf_base.predict_proba(X_train_)"
   ]
  },
  {
   "cell_type": "code",
   "execution_count": 163,
   "metadata": {},
   "outputs": [
    {
     "data": {
      "text/html": [
       "<div>\n",
       "<style scoped>\n",
       "    .dataframe tbody tr th:only-of-type {\n",
       "        vertical-align: middle;\n",
       "    }\n",
       "\n",
       "    .dataframe tbody tr th {\n",
       "        vertical-align: top;\n",
       "    }\n",
       "\n",
       "    .dataframe thead th {\n",
       "        text-align: right;\n",
       "    }\n",
       "</style>\n",
       "<table border=\"1\" class=\"dataframe\">\n",
       "  <thead>\n",
       "    <tr style=\"text-align: right;\">\n",
       "      <th></th>\n",
       "      <th>model</th>\n",
       "      <th>ROC_AUC</th>\n",
       "      <th>Precision_micro</th>\n",
       "      <th>Precision_macro</th>\n",
       "      <th>Recall_micro</th>\n",
       "      <th>Recall_macro</th>\n",
       "      <th>F1_micro</th>\n",
       "      <th>F1_macro</th>\n",
       "      <th>Logloss</th>\n",
       "    </tr>\n",
       "  </thead>\n",
       "  <tbody>\n",
       "    <tr>\n",
       "      <th>0</th>\n",
       "      <td>catboost_base</td>\n",
       "      <td>0.993267</td>\n",
       "      <td>0.799159</td>\n",
       "      <td>0.795133</td>\n",
       "      <td>0.799159</td>\n",
       "      <td>0.918719</td>\n",
       "      <td>0.799159</td>\n",
       "      <td>0.848417</td>\n",
       "      <td>0.519094</td>\n",
       "    </tr>\n",
       "  </tbody>\n",
       "</table>\n",
       "</div>"
      ],
      "text/plain": [
       "           model   ROC_AUC  Precision_micro  Precision_macro  Recall_micro  \\\n",
       "0  catboost_base  0.993267         0.799159         0.795133      0.799159   \n",
       "\n",
       "   Recall_macro  F1_micro  F1_macro   Logloss  \n",
       "0      0.918719  0.799159  0.848417  0.519094  "
      ]
     },
     "execution_count": 163,
     "metadata": {},
     "output_type": "execute_result"
    }
   ],
   "source": [
    "get_metrics_multiclass(y_test_bin, y_test, y_pred_test_catboost_base,\n",
    "                       y_pred_proba_test_catboost_base, 'catboost_base', 'ovo')"
   ]
  },
  {
   "cell_type": "code",
   "execution_count": 162,
   "metadata": {},
   "outputs": [
    {
     "name": "stdout",
     "output_type": "stream",
     "text": [
      "roc_auc train: 0.997\n",
      "roc_auc test: 0.993\n",
      "delta = 0.4 %\n"
     ]
    }
   ],
   "source": [
    "check_overfitting(y_pred_proba_train_catboost_base, y_train_bin, \n",
    "                  y_pred_proba_test_catboost_base, y_test_bin, 'ovo')"
   ]
  },
  {
   "cell_type": "markdown",
   "metadata": {},
   "source": [
    "У catboost чуть больше roc-auc и меньше переобучение. Выберу его для тюнинга."
   ]
  },
  {
   "cell_type": "markdown",
   "metadata": {},
   "source": [
    "# 3. Тюнинг модели"
   ]
  },
  {
   "cell_type": "code",
   "execution_count": 22,
   "metadata": {},
   "outputs": [],
   "source": [
    "def tuning_lr_catboost(X_train: np.ndarray,\n",
    "                       y_train: np.ndarray,\n",
    "                       random_state: int\n",
    "                       ) -> dict:\n",
    "    \"\"\"\n",
    "    Подбор learning rate для catboost classifier\n",
    "    :params X_train: массив объектов признаков для тренировки модели\n",
    "    :params y_train: вектор ответов для тренировки\n",
    "    :params random_state: рандом стейт\n",
    "    :return: словарь с найденным значением learning rate\n",
    "    \"\"\"\n",
    "    grid = {\n",
    "        'n_estimators': [1000],\n",
    "        'learning_rate': np.logspace(-3, -1, 3)\n",
    "    }\n",
    "\n",
    "    model = catboost.CatBoostClassifier(loss_function='MultiClass',\n",
    "                                        auto_class_weights='Balanced',\n",
    "                                        random_state=random_state,\n",
    "                                        silent=True)\n",
    "    grid_search_result = model.randomized_search(grid,\n",
    "                                                 X=X_train,\n",
    "                                                 y=y_train,\n",
    "                                                 stratified=True,\n",
    "                                                 partition_random_seed=random_state,\n",
    "                                                 verbose=False)\n",
    "    return grid_search_result['params']\n"
   ]
  },
  {
   "cell_type": "code",
   "execution_count": 23,
   "metadata": {},
   "outputs": [],
   "source": [
    "def complete_tuning_catboost(X_train: np.ndarray,\n",
    "                             y_train: np.ndarray,\n",
    "                             random_state: int,\n",
    "                             grid_lr: dict\n",
    "                             ) -> dict:\n",
    "    \"\"\"\n",
    "    Полноценный тюнинг для catboost classifier\n",
    "    :params X_train: массив объектов признаков для тренировки модели\n",
    "    :params y_train: вектор ответов для тренировки\n",
    "    :params random_state: рандом стейт\n",
    "    :params grid_lr: словарь с найденным learning rate\n",
    "    :return: словарь с оптимальными параметрами\n",
    "    \"\"\"\n",
    "    grid = {\n",
    "        'n_estimators': [grid_lr['iterations']],\n",
    "        'learning_rate': [grid_lr['learning_rate']],\n",
    "        'max_depth': list(range(6, 10)),\n",
    "        'l2_leaf_reg': np.logspace(-5, 2, 5),\n",
    "        'bagging_temperature': list(range(11)),\n",
    "        'random_strength': list(range(10, 51, 10)),\n",
    "        'bootstrap_type': [\"Bayesian\", \"Bernoulli\", \"MVS\", \"No\"],\n",
    "        'border_count': [128, 254],\n",
    "        'grow_policy': [\"SymmetricTree\", \"Depthwise\", \"Lossguide\"]\n",
    "    }\n",
    "\n",
    "    model = catboost.CatBoostClassifier(loss_function='MultiClass',\n",
    "                                        auto_class_weights='Balanced',\n",
    "                                        random_state=random_state,\n",
    "                                        silent=True)\n",
    "    grid_search_result = model.randomized_search(grid,\n",
    "                                                 X=X_train,\n",
    "                                                 y=y_train,\n",
    "                                                 stratified=True,\n",
    "                                                 partition_random_seed=random_state,\n",
    "                                                 verbose=False)\n",
    "    return grid_search_result['params']\n"
   ]
  },
  {
   "cell_type": "code",
   "execution_count": 24,
   "metadata": {},
   "outputs": [
    {
     "name": "stdout",
     "output_type": "stream",
     "text": [
      "\n",
      "bestTest = 1.894052019\n",
      "bestIteration = 999\n",
      "\n",
      "\n",
      "bestTest = 0.4059492972\n",
      "bestIteration = 999\n",
      "\n",
      "\n",
      "bestTest = 0.2529375634\n",
      "bestIteration = 997\n",
      "\n",
      "Training on fold [0/3]\n",
      "\n",
      "bestTest = 0.2821340094\n",
      "bestIteration = 874\n",
      "\n",
      "Training on fold [1/3]\n",
      "\n",
      "bestTest = 0.2578634508\n",
      "bestIteration = 997\n",
      "\n",
      "Training on fold [2/3]\n",
      "\n",
      "bestTest = 0.2579392079\n",
      "bestIteration = 995\n",
      "\n",
      "\n",
      "bestTest = 0.5004820883\n",
      "bestIteration = 332\n",
      "\n",
      "\n",
      "bestTest = 0.586345946\n",
      "bestIteration = 275\n",
      "\n",
      "\n",
      "bestTest = 0.3383720816\n",
      "bestIteration = 999\n",
      "\n",
      "\n",
      "bestTest = 0.5526963478\n",
      "bestIteration = 368\n",
      "\n",
      "Training on fold [0/3]\n",
      "\n",
      "bestTest = 0.3482363615\n",
      "bestIteration = 999\n",
      "\n",
      "Training on fold [1/3]\n",
      "\n",
      "bestTest = 0.3419507344\n",
      "bestIteration = 999\n",
      "\n",
      "Training on fold [2/3]\n",
      "\n",
      "bestTest = 0.3614808252\n",
      "bestIteration = 998\n",
      "\n"
     ]
    }
   ],
   "source": [
    "grid_lr = tuning_lr_catboost(X_train_, y_train_, rs)\n",
    "best_params = complete_tuning_catboost(X_train_, y_train_, rs, grid_lr)"
   ]
  },
  {
   "cell_type": "code",
   "execution_count": 26,
   "metadata": {},
   "outputs": [],
   "source": [
    "catboost_clf_tuned = catboost_fit(X_train_, y_train_, X_val, y_val, rs, \n",
    "                                  **best_params)"
   ]
  },
  {
   "cell_type": "code",
   "execution_count": 27,
   "metadata": {},
   "outputs": [],
   "source": [
    "y_pred_test_catboost_tuned = catboost_clf_tuned.predict(X_test)\n",
    "y_pred_proba_test_catboost_tuned = catboost_clf_tuned.predict_proba(X_test)\n",
    "\n",
    "y_pred_proba_train_catboost_tuned = catboost_clf_tuned.predict_proba(X_train_)"
   ]
  },
  {
   "cell_type": "code",
   "execution_count": 160,
   "metadata": {},
   "outputs": [],
   "source": [
    "catboost_tuned_metrics = get_metrics_multiclass(y_test_bin, y_test, \n",
    "                                                y_pred_test_catboost_tuned,\n",
    "                                                y_pred_proba_test_catboost_tuned, \n",
    "                                                'catboost_tuned', 'ovo')"
   ]
  },
  {
   "cell_type": "code",
   "execution_count": 161,
   "metadata": {},
   "outputs": [
    {
     "data": {
      "text/html": [
       "<div>\n",
       "<style scoped>\n",
       "    .dataframe tbody tr th:only-of-type {\n",
       "        vertical-align: middle;\n",
       "    }\n",
       "\n",
       "    .dataframe tbody tr th {\n",
       "        vertical-align: top;\n",
       "    }\n",
       "\n",
       "    .dataframe thead th {\n",
       "        text-align: right;\n",
       "    }\n",
       "</style>\n",
       "<table border=\"1\" class=\"dataframe\">\n",
       "  <thead>\n",
       "    <tr style=\"text-align: right;\">\n",
       "      <th></th>\n",
       "      <th>model</th>\n",
       "      <th>ROC_AUC</th>\n",
       "      <th>Precision_micro</th>\n",
       "      <th>Precision_macro</th>\n",
       "      <th>Recall_micro</th>\n",
       "      <th>Recall_macro</th>\n",
       "      <th>F1_micro</th>\n",
       "      <th>F1_macro</th>\n",
       "      <th>Logloss</th>\n",
       "    </tr>\n",
       "  </thead>\n",
       "  <tbody>\n",
       "    <tr>\n",
       "      <th>0</th>\n",
       "      <td>catboost_tuned</td>\n",
       "      <td>0.988407</td>\n",
       "      <td>0.731225</td>\n",
       "      <td>0.690467</td>\n",
       "      <td>0.731225</td>\n",
       "      <td>0.927963</td>\n",
       "      <td>0.731225</td>\n",
       "      <td>0.780266</td>\n",
       "      <td>0.837066</td>\n",
       "    </tr>\n",
       "  </tbody>\n",
       "</table>\n",
       "</div>"
      ],
      "text/plain": [
       "            model   ROC_AUC  Precision_micro  Precision_macro  Recall_micro  \\\n",
       "0  catboost_tuned  0.988407         0.731225         0.690467      0.731225   \n",
       "\n",
       "   Recall_macro  F1_micro  F1_macro   Logloss  \n",
       "0      0.927963  0.731225  0.780266  0.837066  "
      ]
     },
     "execution_count": 161,
     "metadata": {},
     "output_type": "execute_result"
    }
   ],
   "source": [
    "catboost_tuned_metrics"
   ]
  },
  {
   "cell_type": "code",
   "execution_count": null,
   "metadata": {},
   "outputs": [
    {
     "name": "stdout",
     "output_type": "stream",
     "text": [
      "roc_auc train: 0.991\n",
      "roc_auc test: 0.988\n",
      "delta = 0.2 %\n"
     ]
    }
   ],
   "source": [
    "check_overfitting(y_pred_proba_train_catboost_tuned, y_train_bin, \n",
    "                  y_pred_proba_test_catboost_tuned, y_test_bin, 'ovo')"
   ]
  },
  {
   "cell_type": "markdown",
   "metadata": {},
   "source": [
    "Метрики немного ухудшились, однако переобучение упало. "
   ]
  },
  {
   "cell_type": "markdown",
   "metadata": {},
   "source": [
    "# Кросс-валидация"
   ]
  },
  {
   "cell_type": "markdown",
   "metadata": {},
   "source": [
    "Применю кросс-валидацию над моделью, чтобы убедиться в достоверности полученных метрик."
   ]
  },
  {
   "cell_type": "code",
   "execution_count": 125,
   "metadata": {},
   "outputs": [],
   "source": [
    "def cross_validation_catboost(X_train: np.ndarray,\n",
    "                              y_train: pd.Series,\n",
    "                              X_test: Union[pd.DataFrame, np.ndarray],\n",
    "                              num_folds: int,\n",
    "                              type_multi: str,\n",
    "                              random_state: int,\n",
    "                              **params) -> (np.ndarray, np.ndarray):\n",
    "    \"\"\"\n",
    "    Получение результатов при помощи кросс-валидации\n",
    "    :params X_train: массив объектов признаков для тренировки модели\n",
    "    :params y_train: вектор ответов для тренировки\n",
    "    :params X_test: массив объектов признаков отложенной выборки \n",
    "    :params params: словарь параметров для модели\n",
    "    :params num_folds: количество фолдов при делении трейна\n",
    "    :params type_multi: стратегия мнокоглассовой классификации\n",
    "    :params random_state: рандом стейт\n",
    "    \"\"\"\n",
    "    folds = StratifiedKFold(n_splits=num_folds,\n",
    "                            random_state=random_state,\n",
    "                            shuffle=True)\n",
    "    score_oof = []\n",
    "    predictions_test = []\n",
    "    proba_test = []\n",
    "\n",
    "    for fold, (train_index,\n",
    "               test_index) in enumerate(folds.split(X_train, y_train)):\n",
    "        X_train_, X_val = X_train[train_index], X_train[test_index]\n",
    "        y_train_, y_val = y_train.iloc[train_index], y_train.iloc[test_index]\n",
    "\n",
    "        y_val_bin = label_binarization(y_val)\n",
    "\n",
    "        model = catboost_fit(X_train_, y_train_, X_val, y_val, random_state,\n",
    "                             **params)\n",
    "\n",
    "        y_pred_val = model.predict_proba(X_val)\n",
    "        y_proba = model.predict_proba(X_test)\n",
    "        y_pred = model.predict(X_test)\n",
    "\n",
    "        print(\"Fold:\", fold + 1,\n",
    "              \"ROC-AUC SCORE %.3f\" % roc_auc_score(y_val_bin, y_pred_val, \n",
    "                                                   multi_class=type_multi))\n",
    "        print(\"---\")\n",
    "\n",
    "        # oof list\n",
    "        score_oof.append(roc_auc_score(y_val_bin, y_pred_val, \n",
    "                                       multi_class=type_multi))\n",
    "        # holdout list\n",
    "        proba_test.append(y_proba)\n",
    "        predictions_test.append(y_pred)\n",
    "\n",
    "    print(f\"mean roc_auc cv score = {np.mean(score_oof)}\")\n",
    "\n",
    "    # Усредняем списки метрик\n",
    "    proba_test = np.mean(proba_test, axis=0)\n",
    "    predictions_test = stats.mode(predictions_test)[0]\n",
    "    return proba_test, predictions_test\n"
   ]
  },
  {
   "cell_type": "code",
   "execution_count": 121,
   "metadata": {},
   "outputs": [],
   "source": [
    "n_folds = config['train_ml']['n_folds']"
   ]
  },
  {
   "cell_type": "code",
   "execution_count": 126,
   "metadata": {},
   "outputs": [
    {
     "name": "stdout",
     "output_type": "stream",
     "text": [
      "Fold: 1 ROC-AUC SCORE 0.988\n",
      "---\n",
      "Fold: 2 ROC-AUC SCORE 0.988\n",
      "---\n",
      "Fold: 3 ROC-AUC SCORE 0.988\n",
      "---\n",
      "mean roc_auc cv score = 0.9878304350062687\n"
     ]
    }
   ],
   "source": [
    "proba_test_cv, prediction_test_cv = cross_validation_catboost(X_train_, \n",
    "                                                              y_train_, X_test, \n",
    "                                                              n_folds, 'ovo',\n",
    "                                                              rs, **best_params)\n"
   ]
  },
  {
   "cell_type": "code",
   "execution_count": 159,
   "metadata": {},
   "outputs": [
    {
     "data": {
      "text/html": [
       "<div>\n",
       "<style scoped>\n",
       "    .dataframe tbody tr th:only-of-type {\n",
       "        vertical-align: middle;\n",
       "    }\n",
       "\n",
       "    .dataframe tbody tr th {\n",
       "        vertical-align: top;\n",
       "    }\n",
       "\n",
       "    .dataframe thead th {\n",
       "        text-align: right;\n",
       "    }\n",
       "</style>\n",
       "<table border=\"1\" class=\"dataframe\">\n",
       "  <thead>\n",
       "    <tr style=\"text-align: right;\">\n",
       "      <th></th>\n",
       "      <th>model</th>\n",
       "      <th>ROC_AUC</th>\n",
       "      <th>Precision_micro</th>\n",
       "      <th>Precision_macro</th>\n",
       "      <th>Recall_micro</th>\n",
       "      <th>Recall_macro</th>\n",
       "      <th>F1_micro</th>\n",
       "      <th>F1_macro</th>\n",
       "      <th>Logloss</th>\n",
       "    </tr>\n",
       "  </thead>\n",
       "  <tbody>\n",
       "    <tr>\n",
       "      <th>0</th>\n",
       "      <td>catboost_tuned_cv</td>\n",
       "      <td>0.988332</td>\n",
       "      <td>0.728108</td>\n",
       "      <td>0.698796</td>\n",
       "      <td>0.728108</td>\n",
       "      <td>0.920793</td>\n",
       "      <td>0.728108</td>\n",
       "      <td>0.782718</td>\n",
       "      <td>0.858971</td>\n",
       "    </tr>\n",
       "  </tbody>\n",
       "</table>\n",
       "</div>"
      ],
      "text/plain": [
       "               model   ROC_AUC  Precision_micro  Precision_macro  \\\n",
       "0  catboost_tuned_cv  0.988332         0.728108         0.698796   \n",
       "\n",
       "   Recall_micro  Recall_macro  F1_micro  F1_macro   Logloss  \n",
       "0      0.728108      0.920793  0.728108  0.782718  0.858971  "
      ]
     },
     "execution_count": 159,
     "metadata": {},
     "output_type": "execute_result"
    }
   ],
   "source": [
    "get_metrics_multiclass(y_test_bin, y_test, prediction_test_cv,\n",
    "                       proba_test_cv, 'catboost_tuned_cv', 'ovo')"
   ]
  },
  {
   "cell_type": "code",
   "execution_count": 128,
   "metadata": {},
   "outputs": [
    {
     "name": "stdout",
     "output_type": "stream",
     "text": [
      "roc_auc train: 0.991\n",
      "roc_auc test: 0.988\n",
      "delta = 0.3 %\n"
     ]
    }
   ],
   "source": [
    "check_overfitting(y_pred_proba_train_catboost_tuned, y_train_bin, \n",
    "                  proba_test_cv, y_test_bin, 'ovo')"
   ]
  },
  {
   "cell_type": "markdown",
   "metadata": {},
   "source": [
    "Видно, что переобучение отсутствует, метрики хорошие, значит модель хорошо справляется с предсказаниями "
   ]
  },
  {
   "cell_type": "markdown",
   "metadata": {},
   "source": [
    "# Сохранение результатов"
   ]
  },
  {
   "cell_type": "markdown",
   "metadata": {},
   "source": [
    "Сохраню необходимые модели, а также метрики и параметры затюненной модели"
   ]
  },
  {
   "cell_type": "code",
   "execution_count": 149,
   "metadata": {},
   "outputs": [],
   "source": [
    "pca_model_path = config['train_ml']['pca_model']\n",
    "catboost_model_path = config['train_ml']['catboost_model']"
   ]
  },
  {
   "cell_type": "code",
   "execution_count": 150,
   "metadata": {},
   "outputs": [],
   "source": [
    "to_pickle(pca_model, pca_model_path)\n",
    "to_pickle(catboost_clf_tuned, catboost_model_path)"
   ]
  },
  {
   "cell_type": "code",
   "execution_count": 157,
   "metadata": {},
   "outputs": [],
   "source": [
    "def to_json(data, path: str) -> None:\n",
    "    \"\"\"\n",
    "    Сохранение данных по заданному пути в формат json\n",
    "    :params data: данные, которые надо сохранить\n",
    "    :params path: путь до файла\n",
    "    \"\"\"\n",
    "    with open(path, 'w') as f:\n",
    "        json.dump(data, f)"
   ]
  },
  {
   "cell_type": "code",
   "execution_count": 155,
   "metadata": {},
   "outputs": [],
   "source": [
    "best_params_path = config['train_ml']['best_params']\n",
    "metrics_path = config['train_ml']['metrics']"
   ]
  },
  {
   "cell_type": "code",
   "execution_count": 158,
   "metadata": {},
   "outputs": [],
   "source": [
    "to_json(best_params, best_params_path)"
   ]
  },
  {
   "cell_type": "code",
   "execution_count": 172,
   "metadata": {},
   "outputs": [],
   "source": [
    "catboost_tuned_metrics_dict = {}\n",
    "for col in catboost_tuned_metrics.columns:\n",
    "    catboost_tuned_metrics_dict[col] = catboost_tuned_metrics[col][0]"
   ]
  },
  {
   "cell_type": "code",
   "execution_count": 174,
   "metadata": {},
   "outputs": [],
   "source": [
    "to_json(catboost_tuned_metrics_dict, metrics_path)"
   ]
  }
 ],
 "metadata": {
  "kernelspec": {
   "display_name": "Python 3",
   "language": "python",
   "name": "python3"
  },
  "language_info": {
   "codemirror_mode": {
    "name": "ipython",
    "version": 3
   },
   "file_extension": ".py",
   "mimetype": "text/x-python",
   "name": "python",
   "nbconvert_exporter": "python",
   "pygments_lexer": "ipython3",
   "version": "3.10.1"
  },
  "toc": {
   "base_numbering": 1,
   "nav_menu": {},
   "number_sections": true,
   "sideBar": true,
   "skip_h1_title": false,
   "title_cell": "Table of Contents",
   "title_sidebar": "Contents",
   "toc_cell": false,
   "toc_position": {},
   "toc_section_display": true,
   "toc_window_display": false
  }
 },
 "nbformat": 4,
 "nbformat_minor": 2
}
