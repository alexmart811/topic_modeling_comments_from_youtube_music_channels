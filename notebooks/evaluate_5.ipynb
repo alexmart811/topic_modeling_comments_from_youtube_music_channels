{
 "cells": [
  {
   "cell_type": "code",
   "execution_count": 1,
   "metadata": {},
   "outputs": [],
   "source": [
    "import numpy as np\n",
    "import pandas as pd\n",
    "\n",
    "from googletrans import Translator\n",
    "from langid import classify\n",
    "\n",
    "from nltk.corpus import stopwords\n",
    "\n",
    "import bertopic\n",
    "\n",
    "import sklearn\n",
    "\n",
    "import re\n",
    "import pymorphy2\n",
    "\n",
    "import pickle\n",
    "\n",
    "from typing import Union, Any\n",
    "\n",
    "import yaml\n",
    "\n",
    "import import_ipynb\n",
    "from parse_1 import txt_file_to_list\n",
    "from preprocessing_2 import translator_from_to, preprocess_text, \\\n",
    "    lemmatization_text, list_with_strings_preproc\n",
    "from train_ml_4 import from_csv\n",
    "\n",
    "import warnings\n",
    "warnings.filterwarnings(\"ignore\")"
   ]
  },
  {
   "cell_type": "markdown",
   "metadata": {},
   "source": [
    "# Тестирование на новых данных\n",
    "В этом ноутбуке подгружаю необработанные комментарии, которые модель еще не видела, и делаю на них предсказания"
   ]
  },
  {
   "cell_type": "code",
   "execution_count": 48,
   "metadata": {},
   "outputs": [],
   "source": [
    "config_path = '../config/params.yml'\n",
    "config = yaml.load(open(config_path), Loader=yaml.FullLoader)"
   ]
  },
  {
   "cell_type": "code",
   "execution_count": 4,
   "metadata": {},
   "outputs": [],
   "source": [
    "test_comments_path = config['nlp_modeling']['test_comments']"
   ]
  },
  {
   "cell_type": "code",
   "execution_count": 5,
   "metadata": {},
   "outputs": [],
   "source": [
    "# Выгрузка комментариев\n",
    "test_comments = txt_file_to_list(test_comments_path)"
   ]
  },
  {
   "cell_type": "code",
   "execution_count": 9,
   "metadata": {},
   "outputs": [],
   "source": [
    "def from_pickle(path: str):\n",
    "    \"\"\"\n",
    "    Загрузка данных по пути с формата pickle\n",
    "    :params path: путь до файла\n",
    "    :return: данне любого типа, которые были записаны в файле\n",
    "    \"\"\"\n",
    "    with open(path, 'rb') as f:\n",
    "        file = pickle.load(f)\n",
    "    return file"
   ]
  },
  {
   "cell_type": "code",
   "execution_count": 10,
   "metadata": {},
   "outputs": [],
   "source": [
    "embed_model_path = config['nlp_modeling']['embed_model']\n",
    "pca_model_path = config['train_ml']['pca_model']\n",
    "catboost_model_path = config['train_ml']['catboost_model']"
   ]
  },
  {
   "cell_type": "code",
   "execution_count": 11,
   "metadata": {},
   "outputs": [],
   "source": [
    "# Подгружаю модели, которые будут участвовать в предсказаниях\n",
    "embed_model = from_pickle(embed_model_path)\n",
    "pca_model = from_pickle(pca_model_path)\n",
    "catboost_model = from_pickle(catboost_model_path)"
   ]
  },
  {
   "cell_type": "code",
   "execution_count": 12,
   "metadata": {},
   "outputs": [],
   "source": [
    "def get_embeddings(model: bertopic.backend._sentencetransformers.SentenceTransformerBackend, \n",
    "                   data: Union[list[str], str]) -> np.ndarray:\n",
    "    \"\"\"\n",
    "    Получение ембеддингов из списка с текстами при помощи оученой модели \n",
    "    эмбеддингов\n",
    "    :params model: экземпляр модели эмбеддингов из бертопика\n",
    "    :params data: список текстов-документов\n",
    "    :return: массив эмбеддингов\n",
    "    \"\"\"\n",
    "    embeds = model.embed(data)\n",
    "    return embeds"
   ]
  },
  {
   "cell_type": "code",
   "execution_count": 13,
   "metadata": {},
   "outputs": [],
   "source": [
    "def compress_with_pca(model: sklearn.decomposition._pca.PCA,\n",
    "                      data: np.ndarray) -> np.ndarray:\n",
    "    \"\"\"\n",
    "    Сжатие колонок при помощи обученной модели pca\n",
    "    :params model: экземпляр модели pca\n",
    "    :params data: массив объектов признаков\n",
    "    :return: сжатый массив объектов признаков\n",
    "    \"\"\"\n",
    "    compressed_data = model.transform(data)\n",
    "    return compressed_data"
   ]
  },
  {
   "cell_type": "code",
   "execution_count": 14,
   "metadata": {},
   "outputs": [],
   "source": [
    "def ml_pred(model: Any, data: np.ndarray) -> (np.ndarray, np.ndarray):\n",
    "    \"\"\"\n",
    "    предсказание на модели машинного обучения на входных данных\n",
    "    :params model: экземпляр модели машинного обучения\n",
    "    :params data: массив объектов признаков\n",
    "    :return: вектор ответов\n",
    "    :return: массив вероятностей определения к каждому из классов\n",
    "    \"\"\"\n",
    "    preds = model.predict(data)\n",
    "    preds_proba = model.predict_proba(data)\n",
    "    return preds, preds_proba"
   ]
  },
  {
   "cell_type": "code",
   "execution_count": 193,
   "metadata": {},
   "outputs": [],
   "source": [
    "def general_test_pipeline(data: Union[list[str], str], \n",
    "                          dest: str, \n",
    "                          list_with_strings_preproc,\n",
    "                          preprocess_text: function,\n",
    "                          lemmatization_text: function,\n",
    "                          embed_model: bertopic.backend._sentencetransformers.SentenceTransformerBackend, \n",
    "                          pca_model: sklearn.decomposition._pca.PCA, \n",
    "                          ml_model: Any\n",
    "                          ) -> (np.ndarray, np.ndarray):\n",
    "    \"\"\"\n",
    "    Составление общего пайплайна для выдачи предсказаний из сырых комментариев\n",
    "    :params data: список с необработанными документами\n",
    "    :params dest: язык, на который нужно перевести документы\n",
    "    :params list_with_strings_preproc: функция, которая очищает текст\n",
    "    :params preprocess_text: функция, производящая очистку строк в списке и \n",
    "                             удаление стоп-слов \n",
    "                             (для фунции list_with_strings_preproc)\n",
    "    :params lemmatization_text: функция, приводящая слова в строке в списке \n",
    "                                к начальной форме\n",
    "                                (для функции list_with_strings_preproc)\n",
    "    :params embed_model: экземпляр модели эмбеддингов из бертопика\n",
    "    :params pca_model: экземпляр модели pca\n",
    "    :params ml_model: экземпляр модели машинного обучения\n",
    "    :return: вектор ответов\n",
    "    :return: массив вероятностей определения к каждому из классов\n",
    "    \"\"\"\n",
    "    if not isinstance(data, list):\n",
    "        if not isinstance(data, str):\n",
    "            raise TypeError('Введите строку или список из строк')\n",
    "        data = [data]\n",
    "\n",
    "    data = translator_from_to(data, dest)\n",
    "\n",
    "    data = list_with_strings_preproc(data, \n",
    "                                     preprocess_text, \n",
    "                                     lemmatization_text)\n",
    "\n",
    "    data = get_embeddings(embed_model, data)\n",
    "    data = compress_with_pca(pca_model, data)\n",
    "    preds, preds_proba = ml_pred(ml_model, data)\n",
    "\n",
    "    preds_proba = preds_proba.ravel()\n",
    "    \n",
    "\n",
    "    return preds, preds_proba"
   ]
  },
  {
   "cell_type": "code",
   "execution_count": 16,
   "metadata": {},
   "outputs": [],
   "source": [
    "dest_lang = config['preprocessing']['dest']"
   ]
  },
  {
   "cell_type": "code",
   "execution_count": 17,
   "metadata": {},
   "outputs": [],
   "source": [
    "preds, preds_proba = general_test_pipeline(test_comments, dest_lang,\n",
    "                                           list_with_strings_preproc,\n",
    "                                           preprocess_text, lemmatization_text,\n",
    "                                           embed_model, pca_model, \n",
    "                                           catboost_model)"
   ]
  },
  {
   "cell_type": "code",
   "execution_count": 211,
   "metadata": {},
   "outputs": [
    {
     "data": {
      "text/plain": [
       "array([[ 1],\n",
       "       [30],\n",
       "       [ 1],\n",
       "       ...,\n",
       "       [ 0],\n",
       "       [ 0],\n",
       "       [ 0]], dtype=int64)"
      ]
     },
     "execution_count": 211,
     "metadata": {},
     "output_type": "execute_result"
    }
   ],
   "source": [
    "preds"
   ]
  },
  {
   "cell_type": "markdown",
   "metadata": {},
   "source": [
    "Создание функции, которая будет показывать, к каким топ n топикам относится комментарий"
   ]
  },
  {
   "cell_type": "code",
   "execution_count": 49,
   "metadata": {},
   "outputs": [],
   "source": [
    "topics_info_path = config['nlp_modeling']['topics_info']\n",
    "top_n_topics = config['evaluate']['top_n_topics']"
   ]
  },
  {
   "cell_type": "code",
   "execution_count": 22,
   "metadata": {},
   "outputs": [],
   "source": [
    "topics_info = from_csv(topics_info_path)"
   ]
  },
  {
   "cell_type": "code",
   "execution_count": 149,
   "metadata": {},
   "outputs": [],
   "source": [
    "def get_top_n_topics(list_probas: np.ndarray, \n",
    "                     top_n_topics: int, \n",
    "                     topics_info_full: pd.DataFrame) -> pd.DataFrame:\n",
    "    \"\"\"\n",
    "    Вывод топ n топиков по вектору вероятностей отнесения к классам \n",
    "    у комментария\n",
    "    :params list_probas: вектор вероятностей отнесения к классам\n",
    "    :params top_n_topics: количество самых топовых по вероятностям топиков\n",
    "    :params topics_info_full: датафрейм с метками топиков и их пояснением\n",
    "    \"\"\"\n",
    "    # Отсортированный список вероятностей \n",
    "    top_probas = list(map(lambda x: round(x * 100, 2), \n",
    "                          np.sort(list_probas)[::-1][:top_n_topics]))\n",
    "    \n",
    "    # Отсортированный по вероятностям список меток класса\n",
    "    top_topics = np.argsort(list_probas)[::-1][:top_n_topics]\n",
    "    \n",
    "    # Сопоставление меток класса с их описанием\n",
    "    top_topics_names = []\n",
    "    for i in top_topics:\n",
    "        topic_name = topics_info_full[topics_info_full['Topic'] == i].values[0][2]\n",
    "        top_topics_names.append(topic_name)\n",
    "\n",
    "    top_df = pd.DataFrame({\n",
    "        'Probability': top_probas,\n",
    "        'Topic_name': top_topics_names\n",
    "    })\n",
    "    \n",
    "    return top_df"
   ]
  },
  {
   "cell_type": "code",
   "execution_count": 155,
   "metadata": {},
   "outputs": [
    {
     "data": {
      "text/plain": [
       "'гитара обучаться играть программа обучение нота учить'"
      ]
     },
     "execution_count": 155,
     "metadata": {},
     "output_type": "execute_result"
    }
   ],
   "source": [
    "test_comments[33]"
   ]
  },
  {
   "cell_type": "code",
   "execution_count": 154,
   "metadata": {},
   "outputs": [
    {
     "data": {
      "text/html": [
       "<div>\n",
       "<style scoped>\n",
       "    .dataframe tbody tr th:only-of-type {\n",
       "        vertical-align: middle;\n",
       "    }\n",
       "\n",
       "    .dataframe tbody tr th {\n",
       "        vertical-align: top;\n",
       "    }\n",
       "\n",
       "    .dataframe thead th {\n",
       "        text-align: right;\n",
       "    }\n",
       "</style>\n",
       "<table border=\"1\" class=\"dataframe\">\n",
       "  <thead>\n",
       "    <tr style=\"text-align: right;\">\n",
       "      <th></th>\n",
       "      <th>Probability</th>\n",
       "      <th>Topic_name</th>\n",
       "    </tr>\n",
       "  </thead>\n",
       "  <tbody>\n",
       "    <tr>\n",
       "      <th>0</th>\n",
       "      <td>96.49</td>\n",
       "      <td>Оценка мастерства гитаристов</td>\n",
       "    </tr>\n",
       "    <tr>\n",
       "      <th>1</th>\n",
       "      <td>1.01</td>\n",
       "      <td>Соединение барабанщика и гитариста</td>\n",
       "    </tr>\n",
       "    <tr>\n",
       "      <th>2</th>\n",
       "      <td>0.60</td>\n",
       "      <td>Учитель и ученик в музыке</td>\n",
       "    </tr>\n",
       "    <tr>\n",
       "      <th>3</th>\n",
       "      <td>0.48</td>\n",
       "      <td>Мусор</td>\n",
       "    </tr>\n",
       "    <tr>\n",
       "      <th>4</th>\n",
       "      <td>0.18</td>\n",
       "      <td>Выразительный бас</td>\n",
       "    </tr>\n",
       "  </tbody>\n",
       "</table>\n",
       "</div>"
      ],
      "text/plain": [
       "   Probability                          Topic_name\n",
       "0        96.49        Оценка мастерства гитаристов\n",
       "1         1.01  Соединение барабанщика и гитариста\n",
       "2         0.60           Учитель и ученик в музыке\n",
       "3         0.48                               Мусор\n",
       "4         0.18                   Выразительный бас"
      ]
     },
     "execution_count": 154,
     "metadata": {},
     "output_type": "execute_result"
    }
   ],
   "source": [
    "get_top_n_topics(preds_proba[33], top_n_topics, topics_info)"
   ]
  },
  {
   "cell_type": "code",
   "execution_count": 197,
   "metadata": {},
   "outputs": [],
   "source": [
    "# Проверим како-нибудь другой комментарий\n",
    "_, proba_new = general_test_pipeline(\"Круто сыграл, бас бочка звучит мощно\", \n",
    "                                     dest_lang, list_with_strings_preproc,\n",
    "                                     preprocess_text, lemmatization_text,\n",
    "                                     embed_model, pca_model, catboost_model)"
   ]
  },
  {
   "cell_type": "code",
   "execution_count": 198,
   "metadata": {},
   "outputs": [
    {
     "data": {
      "text/html": [
       "<div>\n",
       "<style scoped>\n",
       "    .dataframe tbody tr th:only-of-type {\n",
       "        vertical-align: middle;\n",
       "    }\n",
       "\n",
       "    .dataframe tbody tr th {\n",
       "        vertical-align: top;\n",
       "    }\n",
       "\n",
       "    .dataframe thead th {\n",
       "        text-align: right;\n",
       "    }\n",
       "</style>\n",
       "<table border=\"1\" class=\"dataframe\">\n",
       "  <thead>\n",
       "    <tr style=\"text-align: right;\">\n",
       "      <th></th>\n",
       "      <th>Probability</th>\n",
       "      <th>Topic_name</th>\n",
       "    </tr>\n",
       "  </thead>\n",
       "  <tbody>\n",
       "    <tr>\n",
       "      <th>0</th>\n",
       "      <td>16.78</td>\n",
       "      <td>Выразительный бас</td>\n",
       "    </tr>\n",
       "    <tr>\n",
       "      <th>1</th>\n",
       "      <td>16.75</td>\n",
       "      <td>Эволюция музыкальных предпочтений</td>\n",
       "    </tr>\n",
       "    <tr>\n",
       "      <th>2</th>\n",
       "      <td>13.68</td>\n",
       "      <td>Шумное и громкое видео</td>\n",
       "    </tr>\n",
       "    <tr>\n",
       "      <th>3</th>\n",
       "      <td>12.55</td>\n",
       "      <td>Мусор</td>\n",
       "    </tr>\n",
       "    <tr>\n",
       "      <th>4</th>\n",
       "      <td>10.95</td>\n",
       "      <td>Восхищение игрой на барабанах</td>\n",
       "    </tr>\n",
       "  </tbody>\n",
       "</table>\n",
       "</div>"
      ],
      "text/plain": [
       "   Probability                         Topic_name\n",
       "0        16.78                  Выразительный бас\n",
       "1        16.75  Эволюция музыкальных предпочтений\n",
       "2        13.68             Шумное и громкое видео\n",
       "3        12.55                              Мусор\n",
       "4        10.95      Восхищение игрой на барабанах"
      ]
     },
     "execution_count": 198,
     "metadata": {},
     "output_type": "execute_result"
    }
   ],
   "source": [
    "get_top_n_topics(proba_new, top_n_topics, topics_info)"
   ]
  },
  {
   "cell_type": "code",
   "execution_count": 199,
   "metadata": {},
   "outputs": [
    {
     "ename": "TypeError",
     "evalue": "Введите строку или список из строк",
     "output_type": "error",
     "traceback": [
      "\u001b[1;31m---------------------------------------------------------------------------\u001b[0m",
      "\u001b[1;31mTypeError\u001b[0m                                 Traceback (most recent call last)",
      "\u001b[1;32mc:\\Users\\alexm\\projects\\pet\\notebooks\\5_evaluate.ipynb Cell 28\u001b[0m line \u001b[0;36m2\n\u001b[0;32m      <a href='vscode-notebook-cell:/c%3A/Users/alexm/projects/pet/notebooks/5_evaluate.ipynb#Y105sZmlsZQ%3D%3D?line=0'>1</a>\u001b[0m \u001b[39m# Несоответствие типов данных\u001b[39;00m\n\u001b[1;32m----> <a href='vscode-notebook-cell:/c%3A/Users/alexm/projects/pet/notebooks/5_evaluate.ipynb#Y105sZmlsZQ%3D%3D?line=1'>2</a>\u001b[0m general_test_pipeline(\u001b[39m5\u001b[39;49m,\n\u001b[0;32m      <a href='vscode-notebook-cell:/c%3A/Users/alexm/projects/pet/notebooks/5_evaluate.ipynb#Y105sZmlsZQ%3D%3D?line=2'>3</a>\u001b[0m                       dest_lang, embed_model, pca_model,\n\u001b[0;32m      <a href='vscode-notebook-cell:/c%3A/Users/alexm/projects/pet/notebooks/5_evaluate.ipynb#Y105sZmlsZQ%3D%3D?line=3'>4</a>\u001b[0m                       catboost_model)\n",
      "\u001b[1;32mc:\\Users\\alexm\\projects\\pet\\notebooks\\5_evaluate.ipynb Cell 28\u001b[0m line \u001b[0;36m1\n\u001b[0;32m     <a href='vscode-notebook-cell:/c%3A/Users/alexm/projects/pet/notebooks/5_evaluate.ipynb#Y105sZmlsZQ%3D%3D?line=16'>17</a>\u001b[0m \u001b[39mif\u001b[39;00m \u001b[39mnot\u001b[39;00m \u001b[39misinstance\u001b[39m(data, \u001b[39mlist\u001b[39m):\n\u001b[0;32m     <a href='vscode-notebook-cell:/c%3A/Users/alexm/projects/pet/notebooks/5_evaluate.ipynb#Y105sZmlsZQ%3D%3D?line=17'>18</a>\u001b[0m     \u001b[39mif\u001b[39;00m \u001b[39mnot\u001b[39;00m \u001b[39misinstance\u001b[39m(data, \u001b[39mstr\u001b[39m):\n\u001b[1;32m---> <a href='vscode-notebook-cell:/c%3A/Users/alexm/projects/pet/notebooks/5_evaluate.ipynb#Y105sZmlsZQ%3D%3D?line=18'>19</a>\u001b[0m         \u001b[39mraise\u001b[39;00m \u001b[39mTypeError\u001b[39;00m(\u001b[39m'\u001b[39m\u001b[39mВведите строку или список из строк\u001b[39m\u001b[39m'\u001b[39m)\n\u001b[0;32m     <a href='vscode-notebook-cell:/c%3A/Users/alexm/projects/pet/notebooks/5_evaluate.ipynb#Y105sZmlsZQ%3D%3D?line=19'>20</a>\u001b[0m     data \u001b[39m=\u001b[39m [data]\n\u001b[0;32m     <a href='vscode-notebook-cell:/c%3A/Users/alexm/projects/pet/notebooks/5_evaluate.ipynb#Y105sZmlsZQ%3D%3D?line=21'>22</a>\u001b[0m data \u001b[39m=\u001b[39m translator_from_to(data, dest)\n",
      "\u001b[1;31mTypeError\u001b[0m: Введите строку или список из строк"
     ]
    }
   ],
   "source": [
    "# Несоответствие типов данных\n",
    "general_test_pipeline(5, dest_lang, list_with_strings_preproc,preprocess_text, \n",
    "                      lemmatization_text, embed_model, pca_model, \n",
    "                      catboost_model)"
   ]
  }
 ],
 "metadata": {
  "kernelspec": {
   "display_name": "Python 3",
   "language": "python",
   "name": "python3"
  },
  "language_info": {
   "codemirror_mode": {
    "name": "ipython",
    "version": 3
   },
   "file_extension": ".py",
   "mimetype": "text/x-python",
   "name": "python",
   "nbconvert_exporter": "python",
   "pygments_lexer": "ipython3",
   "version": "3.10.1"
  },
  "toc": {
   "base_numbering": 1,
   "nav_menu": {},
   "number_sections": true,
   "sideBar": true,
   "skip_h1_title": false,
   "title_cell": "Table of Contents",
   "title_sidebar": "Contents",
   "toc_cell": false,
   "toc_position": {},
   "toc_section_display": true,
   "toc_window_display": false
  }
 },
 "nbformat": 4,
 "nbformat_minor": 2
}
